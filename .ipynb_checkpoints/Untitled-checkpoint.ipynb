{
 "cells": [
  {
   "cell_type": "code",
   "execution_count": 7,
   "metadata": {},
   "outputs": [
    {
     "name": "stdout",
     "output_type": "stream",
     "text": [
      "{1: 'b', 2: 'd'}\n"
     ]
    }
   ],
   "source": [
    "x = [(1,'a'),(1,'b'),(2,'c'),(2,'d')]\n",
    "dict = {1:[], 2:[]}\n",
    "dict = {}\n",
    "for (key,val) in x:\n",
    "    dict[key] = val\n",
    "#     try:\n",
    "#         if dict[key]:\n",
    "#             dict[key].append(val)\n",
    "#     except:\n",
    "#         dict[key] = val\n",
    "print(dict)"
   ]
  }
 ],
 "metadata": {
  "kernelspec": {
   "display_name": "Python 3",
   "language": "python",
   "name": "python3"
  },
  "language_info": {
   "codemirror_mode": {
    "name": "ipython",
    "version": 3
   },
   "file_extension": ".py",
   "mimetype": "text/x-python",
   "name": "python",
   "nbconvert_exporter": "python",
   "pygments_lexer": "ipython3",
   "version": "3.6.8"
  }
 },
 "nbformat": 4,
 "nbformat_minor": 2
}
